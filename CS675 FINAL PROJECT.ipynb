{
 "cells": [
  {
   "cell_type": "markdown",
   "metadata": {},
   "source": [
    "# FINAL PROJECT"
   ]
  },
  {
   "cell_type": "markdown",
   "metadata": {},
   "source": [
    "### Group Members\n",
    "* Kavitha Kannanunny\n",
    "* Natasha Christopher\n",
    "* Joy Datta"
   ]
  },
  {
   "cell_type": "code",
   "execution_count": 1,
   "metadata": {},
   "outputs": [],
   "source": [
    "# Importing header files\n",
    "import numpy as np\n",
    "import pandas as pd\n",
    "import glob\n",
    "import os\n",
    "\n",
    "\n",
    "import xgboost as xgb\n",
    "from sklearn.metrics import mean_squared_error\n",
    "import pandas as pd\n",
    "import numpy as np\n",
    "import matplotlib.pyplot as plt\n",
    "\n",
    "from sklearn.model_selection import train_test_split\n",
    "from sklearn.linear_model import LinearRegression\n",
    "from sklearn.cluster import KMeans, MeanShift, DBSCAN\n",
    "from sklearn.cluster import AgglomerativeClustering\n",
    "from sklearn.linear_model import LinearRegression"
   ]
  },
  {
   "cell_type": "code",
   "execution_count": 3,
   "metadata": {},
   "outputs": [
    {
     "data": {
      "text/html": [
       "<div>\n",
       "<style scoped>\n",
       "    .dataframe tbody tr th:only-of-type {\n",
       "        vertical-align: middle;\n",
       "    }\n",
       "\n",
       "    .dataframe tbody tr th {\n",
       "        vertical-align: top;\n",
       "    }\n",
       "\n",
       "    .dataframe thead th {\n",
       "        text-align: right;\n",
       "    }\n",
       "</style>\n",
       "<table border=\"1\" class=\"dataframe\">\n",
       "  <thead>\n",
       "    <tr style=\"text-align: right;\">\n",
       "      <th></th>\n",
       "      <th>segment_id</th>\n",
       "      <th>time_to_eruption</th>\n",
       "    </tr>\n",
       "  </thead>\n",
       "  <tbody>\n",
       "    <tr>\n",
       "      <th>0</th>\n",
       "      <td>1136037770</td>\n",
       "      <td>12262005</td>\n",
       "    </tr>\n",
       "    <tr>\n",
       "      <th>1</th>\n",
       "      <td>1969647810</td>\n",
       "      <td>32739612</td>\n",
       "    </tr>\n",
       "    <tr>\n",
       "      <th>2</th>\n",
       "      <td>1895879680</td>\n",
       "      <td>14965999</td>\n",
       "    </tr>\n",
       "    <tr>\n",
       "      <th>3</th>\n",
       "      <td>2068207140</td>\n",
       "      <td>26469720</td>\n",
       "    </tr>\n",
       "    <tr>\n",
       "      <th>4</th>\n",
       "      <td>192955606</td>\n",
       "      <td>31072429</td>\n",
       "    </tr>\n",
       "  </tbody>\n",
       "</table>\n",
       "</div>"
      ],
      "text/plain": [
       "   segment_id  time_to_eruption\n",
       "0  1136037770          12262005\n",
       "1  1969647810          32739612\n",
       "2  1895879680          14965999\n",
       "3  2068207140          26469720\n",
       "4   192955606          31072429"
      ]
     },
     "execution_count": 3,
     "metadata": {},
     "output_type": "execute_result"
    }
   ],
   "source": [
    "train=pd.read_csv(r'I:\\CS675\\train.csv')\n",
    "train.head()"
   ]
  },
  {
   "cell_type": "markdown",
   "metadata": {},
   "source": [
    "Make a train directory with all the train files in one using glob"
   ]
  },
  {
   "cell_type": "code",
   "execution_count": 4,
   "metadata": {},
   "outputs": [],
   "source": [
    "train_frags = glob.glob(r\"I:\\CS675\\train\\*\")"
   ]
  },
  {
   "cell_type": "code",
   "execution_count": 5,
   "metadata": {},
   "outputs": [
    {
     "data": {
      "text/plain": [
       "['I:\\\\CS675\\\\train\\\\1000015382.csv',\n",
       " 'I:\\\\CS675\\\\train\\\\1000554676.csv',\n",
       " 'I:\\\\CS675\\\\train\\\\1000745424.csv',\n",
       " 'I:\\\\CS675\\\\train\\\\1001461087.csv',\n",
       " 'I:\\\\CS675\\\\train\\\\1001732002.csv']"
      ]
     },
     "execution_count": 5,
     "metadata": {},
     "output_type": "execute_result"
    }
   ],
   "source": [
    "train_frags[0:5]"
   ]
  },
  {
   "cell_type": "code",
   "execution_count": 6,
   "metadata": {},
   "outputs": [],
   "source": [
    "test_frags = glob.glob(r\"I:\\CS675\\test\\*\")"
   ]
  },
  {
   "cell_type": "code",
   "execution_count": 7,
   "metadata": {},
   "outputs": [
    {
     "data": {
      "text/plain": [
       "['I:\\\\CS675\\\\test\\\\1000213997.csv',\n",
       " 'I:\\\\CS675\\\\test\\\\100023368.csv',\n",
       " 'I:\\\\CS675\\\\test\\\\1000488999.csv',\n",
       " 'I:\\\\CS675\\\\test\\\\1001028887.csv',\n",
       " 'I:\\\\CS675\\\\test\\\\1001857862.csv']"
      ]
     },
     "execution_count": 7,
     "metadata": {},
     "output_type": "execute_result"
    }
   ],
   "source": [
    "test_frags[0:5]"
   ]
  },
  {
   "cell_type": "markdown",
   "metadata": {},
   "source": [
    "## FEATURE ENGINEERING AND CREATING NEW FEATURES"
   ]
  },
  {
   "cell_type": "markdown",
   "metadata": {},
   "source": [
    "### 1. Creating Features"
   ]
  },
  {
   "cell_type": "code",
   "execution_count": 8,
   "metadata": {},
   "outputs": [],
   "source": [
    "def create_features(df,signal,seg_id,sensor_id):\n",
    "    f = np.fft.fft(signal) #Fourier Transform \n",
    "    f_real = np.real(f) #only take real values\n",
    "    df.loc[seg_id, f'{sensor_id}_sum']= signal.sum()\n",
    "    df.loc[seg_id, f'{sensor_id}_mean']= signal.mean()\n",
    "    df.loc[seg_id, f'{sensor_id}_std']= signal.std()\n",
    "    df.loc[seg_id, f'{sensor_id}_max']= signal.max()\n",
    "    df.loc[seg_id, f'{sensor_id}_min']= signal.min()\n",
    "    return df"
   ]
  },
  {
   "cell_type": "markdown",
   "metadata": {},
   "source": [
    "__Create a function to create new features for every train file__"
   ]
  },
  {
   "cell_type": "markdown",
   "metadata": {},
   "source": [
    "__New features created are sum, standard deviation, mean, maximum, minimum of all the columns__"
   ]
  },
  {
   "cell_type": "code",
   "execution_count": 9,
   "metadata": {},
   "outputs": [
    {
     "name": "stdout",
     "output_type": "stream",
     "text": [
      "0\n",
      "500\n",
      "1000\n",
      "1500\n",
      "2000\n",
      "2500\n",
      "3000\n",
      "3500\n",
      "4000\n"
     ]
    }
   ],
   "source": [
    "train = pd.read_csv(r\"I:\\CS675\\train.csv\")\n",
    "train_df = pd.DataFrame()\n",
    "train_df['segment_id'] = train.segment_id\n",
    "train_df = train_df.set_index('segment_id')\n",
    "\n",
    "j=0\n",
    "for seg in train.segment_id:\n",
    "    signals = pd.read_csv(f'I:/CS675/train/{seg}.csv')\n",
    "    if j%500 == 0:\n",
    "        print(j)\n",
    "    for i in range(1, 11):\n",
    "        sensor_id = f'sensor_{i}'\n",
    "        train_df = create_features(train_df, signals[sensor_id].fillna(0), seg, sensor_id,)\n",
    "    j+=1  "
   ]
  },
  {
   "cell_type": "code",
   "execution_count": 10,
   "metadata": {},
   "outputs": [
    {
     "data": {
      "text/plain": [
       "Index(['sensor_1_sum', 'sensor_1_mean', 'sensor_1_std', 'sensor_1_max',\n",
       "       'sensor_1_min', 'sensor_2_sum', 'sensor_2_mean', 'sensor_2_std',\n",
       "       'sensor_2_max', 'sensor_2_min', 'sensor_3_sum', 'sensor_3_mean',\n",
       "       'sensor_3_std', 'sensor_3_max', 'sensor_3_min', 'sensor_4_sum',\n",
       "       'sensor_4_mean', 'sensor_4_std', 'sensor_4_max', 'sensor_4_min',\n",
       "       'sensor_5_sum', 'sensor_5_mean', 'sensor_5_std', 'sensor_5_max',\n",
       "       'sensor_5_min', 'sensor_6_sum', 'sensor_6_mean', 'sensor_6_std',\n",
       "       'sensor_6_max', 'sensor_6_min', 'sensor_7_sum', 'sensor_7_mean',\n",
       "       'sensor_7_std', 'sensor_7_max', 'sensor_7_min', 'sensor_8_sum',\n",
       "       'sensor_8_mean', 'sensor_8_std', 'sensor_8_max', 'sensor_8_min',\n",
       "       'sensor_9_sum', 'sensor_9_mean', 'sensor_9_std', 'sensor_9_max',\n",
       "       'sensor_9_min', 'sensor_10_sum', 'sensor_10_mean', 'sensor_10_std',\n",
       "       'sensor_10_max', 'sensor_10_min'],\n",
       "      dtype='object')"
      ]
     },
     "execution_count": 10,
     "metadata": {},
     "output_type": "execute_result"
    }
   ],
   "source": [
    "train_df.columns"
   ]
  },
  {
   "cell_type": "code",
   "execution_count": 11,
   "metadata": {},
   "outputs": [
    {
     "data": {
      "text/html": [
       "<div>\n",
       "<style scoped>\n",
       "    .dataframe tbody tr th:only-of-type {\n",
       "        vertical-align: middle;\n",
       "    }\n",
       "\n",
       "    .dataframe tbody tr th {\n",
       "        vertical-align: top;\n",
       "    }\n",
       "\n",
       "    .dataframe thead th {\n",
       "        text-align: right;\n",
       "    }\n",
       "</style>\n",
       "<table border=\"1\" class=\"dataframe\">\n",
       "  <thead>\n",
       "    <tr style=\"text-align: right;\">\n",
       "      <th></th>\n",
       "      <th>sensor_1_sum</th>\n",
       "      <th>sensor_1_mean</th>\n",
       "      <th>sensor_1_std</th>\n",
       "      <th>sensor_1_max</th>\n",
       "      <th>sensor_1_min</th>\n",
       "      <th>sensor_2_sum</th>\n",
       "      <th>sensor_2_mean</th>\n",
       "      <th>sensor_2_std</th>\n",
       "      <th>sensor_2_max</th>\n",
       "      <th>sensor_2_min</th>\n",
       "      <th>...</th>\n",
       "      <th>sensor_9_mean</th>\n",
       "      <th>sensor_9_std</th>\n",
       "      <th>sensor_9_max</th>\n",
       "      <th>sensor_9_min</th>\n",
       "      <th>sensor_10_sum</th>\n",
       "      <th>sensor_10_mean</th>\n",
       "      <th>sensor_10_std</th>\n",
       "      <th>sensor_10_max</th>\n",
       "      <th>sensor_10_min</th>\n",
       "      <th>time_to_eruption</th>\n",
       "    </tr>\n",
       "    <tr>\n",
       "      <th>segment_id</th>\n",
       "      <th></th>\n",
       "      <th></th>\n",
       "      <th></th>\n",
       "      <th></th>\n",
       "      <th></th>\n",
       "      <th></th>\n",
       "      <th></th>\n",
       "      <th></th>\n",
       "      <th></th>\n",
       "      <th></th>\n",
       "      <th></th>\n",
       "      <th></th>\n",
       "      <th></th>\n",
       "      <th></th>\n",
       "      <th></th>\n",
       "      <th></th>\n",
       "      <th></th>\n",
       "      <th></th>\n",
       "      <th></th>\n",
       "      <th></th>\n",
       "      <th></th>\n",
       "    </tr>\n",
       "  </thead>\n",
       "  <tbody>\n",
       "    <tr>\n",
       "      <th>1136037770</th>\n",
       "      <td>-96621.0</td>\n",
       "      <td>-1.610323</td>\n",
       "      <td>303.096099</td>\n",
       "      <td>1353.0</td>\n",
       "      <td>-1421.0</td>\n",
       "      <td>276834.0</td>\n",
       "      <td>4.613823</td>\n",
       "      <td>678.330828</td>\n",
       "      <td>5572.0</td>\n",
       "      <td>-5199.0</td>\n",
       "      <td>...</td>\n",
       "      <td>1.465042</td>\n",
       "      <td>372.386746</td>\n",
       "      <td>2021.0</td>\n",
       "      <td>-1747.0</td>\n",
       "      <td>155969.0</td>\n",
       "      <td>2.599440</td>\n",
       "      <td>596.865818</td>\n",
       "      <td>2187.0</td>\n",
       "      <td>-3527.0</td>\n",
       "      <td>12262005</td>\n",
       "    </tr>\n",
       "    <tr>\n",
       "      <th>1969647810</th>\n",
       "      <td>85569.0</td>\n",
       "      <td>1.426126</td>\n",
       "      <td>438.360560</td>\n",
       "      <td>2197.0</td>\n",
       "      <td>-2005.0</td>\n",
       "      <td>149069.0</td>\n",
       "      <td>2.484442</td>\n",
       "      <td>661.163255</td>\n",
       "      <td>5111.0</td>\n",
       "      <td>-4267.0</td>\n",
       "      <td>...</td>\n",
       "      <td>3.140131</td>\n",
       "      <td>404.904961</td>\n",
       "      <td>2189.0</td>\n",
       "      <td>-2615.0</td>\n",
       "      <td>1193751.0</td>\n",
       "      <td>19.895518</td>\n",
       "      <td>932.699662</td>\n",
       "      <td>5319.0</td>\n",
       "      <td>-4591.0</td>\n",
       "      <td>32739612</td>\n",
       "    </tr>\n",
       "    <tr>\n",
       "      <th>1895879680</th>\n",
       "      <td>150278.0</td>\n",
       "      <td>2.504592</td>\n",
       "      <td>241.575415</td>\n",
       "      <td>1148.0</td>\n",
       "      <td>-1115.0</td>\n",
       "      <td>326988.0</td>\n",
       "      <td>5.449709</td>\n",
       "      <td>831.469221</td>\n",
       "      <td>7587.0</td>\n",
       "      <td>-6147.0</td>\n",
       "      <td>...</td>\n",
       "      <td>-1.833336</td>\n",
       "      <td>261.360378</td>\n",
       "      <td>1778.0</td>\n",
       "      <td>-1542.0</td>\n",
       "      <td>58087.0</td>\n",
       "      <td>0.968101</td>\n",
       "      <td>500.544892</td>\n",
       "      <td>2522.0</td>\n",
       "      <td>-2798.0</td>\n",
       "      <td>14965999</td>\n",
       "    </tr>\n",
       "    <tr>\n",
       "      <th>2068207140</th>\n",
       "      <td>129950.0</td>\n",
       "      <td>2.165797</td>\n",
       "      <td>221.967825</td>\n",
       "      <td>1254.0</td>\n",
       "      <td>-1025.0</td>\n",
       "      <td>-22403.0</td>\n",
       "      <td>-0.373377</td>\n",
       "      <td>425.189594</td>\n",
       "      <td>2453.0</td>\n",
       "      <td>-2828.0</td>\n",
       "      <td>...</td>\n",
       "      <td>-3.363227</td>\n",
       "      <td>232.926808</td>\n",
       "      <td>1340.0</td>\n",
       "      <td>-1574.0</td>\n",
       "      <td>502895.0</td>\n",
       "      <td>8.381444</td>\n",
       "      <td>523.449843</td>\n",
       "      <td>3614.0</td>\n",
       "      <td>-2911.0</td>\n",
       "      <td>26469720</td>\n",
       "    </tr>\n",
       "    <tr>\n",
       "      <th>192955606</th>\n",
       "      <td>4429.0</td>\n",
       "      <td>0.073815</td>\n",
       "      <td>261.695935</td>\n",
       "      <td>1114.0</td>\n",
       "      <td>-1190.0</td>\n",
       "      <td>0.0</td>\n",
       "      <td>0.000000</td>\n",
       "      <td>0.000000</td>\n",
       "      <td>0.0</td>\n",
       "      <td>0.0</td>\n",
       "      <td>...</td>\n",
       "      <td>1.622906</td>\n",
       "      <td>325.089448</td>\n",
       "      <td>7725.0</td>\n",
       "      <td>-7252.0</td>\n",
       "      <td>-224432.0</td>\n",
       "      <td>-3.740471</td>\n",
       "      <td>562.748316</td>\n",
       "      <td>3274.0</td>\n",
       "      <td>-2611.0</td>\n",
       "      <td>31072429</td>\n",
       "    </tr>\n",
       "    <tr>\n",
       "      <th>...</th>\n",
       "      <td>...</td>\n",
       "      <td>...</td>\n",
       "      <td>...</td>\n",
       "      <td>...</td>\n",
       "      <td>...</td>\n",
       "      <td>...</td>\n",
       "      <td>...</td>\n",
       "      <td>...</td>\n",
       "      <td>...</td>\n",
       "      <td>...</td>\n",
       "      <td>...</td>\n",
       "      <td>...</td>\n",
       "      <td>...</td>\n",
       "      <td>...</td>\n",
       "      <td>...</td>\n",
       "      <td>...</td>\n",
       "      <td>...</td>\n",
       "      <td>...</td>\n",
       "      <td>...</td>\n",
       "      <td>...</td>\n",
       "      <td>...</td>\n",
       "    </tr>\n",
       "    <tr>\n",
       "      <th>873340274</th>\n",
       "      <td>54405.0</td>\n",
       "      <td>0.906735</td>\n",
       "      <td>613.427301</td>\n",
       "      <td>2916.0</td>\n",
       "      <td>-2610.0</td>\n",
       "      <td>-219499.0</td>\n",
       "      <td>-3.658256</td>\n",
       "      <td>940.746578</td>\n",
       "      <td>6661.0</td>\n",
       "      <td>-5989.0</td>\n",
       "      <td>...</td>\n",
       "      <td>-1.802253</td>\n",
       "      <td>574.012062</td>\n",
       "      <td>3085.0</td>\n",
       "      <td>-2399.0</td>\n",
       "      <td>-202647.0</td>\n",
       "      <td>-3.377394</td>\n",
       "      <td>1053.539787</td>\n",
       "      <td>5493.0</td>\n",
       "      <td>-5726.0</td>\n",
       "      <td>15695097</td>\n",
       "    </tr>\n",
       "    <tr>\n",
       "      <th>1297437712</th>\n",
       "      <td>476221.0</td>\n",
       "      <td>7.936884</td>\n",
       "      <td>649.089618</td>\n",
       "      <td>4498.0</td>\n",
       "      <td>-3654.0</td>\n",
       "      <td>0.0</td>\n",
       "      <td>0.000000</td>\n",
       "      <td>0.000000</td>\n",
       "      <td>0.0</td>\n",
       "      <td>0.0</td>\n",
       "      <td>...</td>\n",
       "      <td>5.439909</td>\n",
       "      <td>1046.360969</td>\n",
       "      <td>32767.0</td>\n",
       "      <td>-23269.0</td>\n",
       "      <td>656389.0</td>\n",
       "      <td>10.939634</td>\n",
       "      <td>1279.909391</td>\n",
       "      <td>14873.0</td>\n",
       "      <td>-13017.0</td>\n",
       "      <td>35659379</td>\n",
       "    </tr>\n",
       "    <tr>\n",
       "      <th>694853998</th>\n",
       "      <td>85261.0</td>\n",
       "      <td>1.420993</td>\n",
       "      <td>110.942596</td>\n",
       "      <td>557.0</td>\n",
       "      <td>-753.0</td>\n",
       "      <td>26814.0</td>\n",
       "      <td>0.446893</td>\n",
       "      <td>505.722491</td>\n",
       "      <td>4169.0</td>\n",
       "      <td>-4663.0</td>\n",
       "      <td>...</td>\n",
       "      <td>-1.149198</td>\n",
       "      <td>139.755330</td>\n",
       "      <td>897.0</td>\n",
       "      <td>-1002.0</td>\n",
       "      <td>-93024.0</td>\n",
       "      <td>-1.550374</td>\n",
       "      <td>251.560198</td>\n",
       "      <td>1549.0</td>\n",
       "      <td>-1708.0</td>\n",
       "      <td>31206935</td>\n",
       "    </tr>\n",
       "    <tr>\n",
       "      <th>1886987043</th>\n",
       "      <td>54350.0</td>\n",
       "      <td>0.905818</td>\n",
       "      <td>478.852581</td>\n",
       "      <td>3938.0</td>\n",
       "      <td>-3555.0</td>\n",
       "      <td>0.0</td>\n",
       "      <td>0.000000</td>\n",
       "      <td>0.000000</td>\n",
       "      <td>0.0</td>\n",
       "      <td>0.0</td>\n",
       "      <td>...</td>\n",
       "      <td>1.104332</td>\n",
       "      <td>295.773222</td>\n",
       "      <td>2015.0</td>\n",
       "      <td>-1619.0</td>\n",
       "      <td>-355511.0</td>\n",
       "      <td>-5.925085</td>\n",
       "      <td>597.353672</td>\n",
       "      <td>3628.0</td>\n",
       "      <td>-3588.0</td>\n",
       "      <td>9598270</td>\n",
       "    </tr>\n",
       "    <tr>\n",
       "      <th>1100632800</th>\n",
       "      <td>-248575.0</td>\n",
       "      <td>-4.142848</td>\n",
       "      <td>272.632730</td>\n",
       "      <td>2063.0</td>\n",
       "      <td>-1404.0</td>\n",
       "      <td>8282.0</td>\n",
       "      <td>0.138031</td>\n",
       "      <td>433.350044</td>\n",
       "      <td>3564.0</td>\n",
       "      <td>-3668.0</td>\n",
       "      <td>...</td>\n",
       "      <td>-1.660022</td>\n",
       "      <td>246.262429</td>\n",
       "      <td>1416.0</td>\n",
       "      <td>-1966.0</td>\n",
       "      <td>-2735133.0</td>\n",
       "      <td>-45.584790</td>\n",
       "      <td>773.808829</td>\n",
       "      <td>3720.0</td>\n",
       "      <td>-4007.0</td>\n",
       "      <td>20128938</td>\n",
       "    </tr>\n",
       "  </tbody>\n",
       "</table>\n",
       "<p>4431 rows × 51 columns</p>\n",
       "</div>"
      ],
      "text/plain": [
       "            sensor_1_sum  sensor_1_mean  sensor_1_std  sensor_1_max  \\\n",
       "segment_id                                                            \n",
       "1136037770      -96621.0      -1.610323    303.096099        1353.0   \n",
       "1969647810       85569.0       1.426126    438.360560        2197.0   \n",
       "1895879680      150278.0       2.504592    241.575415        1148.0   \n",
       "2068207140      129950.0       2.165797    221.967825        1254.0   \n",
       "192955606         4429.0       0.073815    261.695935        1114.0   \n",
       "...                  ...            ...           ...           ...   \n",
       "873340274        54405.0       0.906735    613.427301        2916.0   \n",
       "1297437712      476221.0       7.936884    649.089618        4498.0   \n",
       "694853998        85261.0       1.420993    110.942596         557.0   \n",
       "1886987043       54350.0       0.905818    478.852581        3938.0   \n",
       "1100632800     -248575.0      -4.142848    272.632730        2063.0   \n",
       "\n",
       "            sensor_1_min  sensor_2_sum  sensor_2_mean  sensor_2_std  \\\n",
       "segment_id                                                            \n",
       "1136037770       -1421.0      276834.0       4.613823    678.330828   \n",
       "1969647810       -2005.0      149069.0       2.484442    661.163255   \n",
       "1895879680       -1115.0      326988.0       5.449709    831.469221   \n",
       "2068207140       -1025.0      -22403.0      -0.373377    425.189594   \n",
       "192955606        -1190.0           0.0       0.000000      0.000000   \n",
       "...                  ...           ...            ...           ...   \n",
       "873340274        -2610.0     -219499.0      -3.658256    940.746578   \n",
       "1297437712       -3654.0           0.0       0.000000      0.000000   \n",
       "694853998         -753.0       26814.0       0.446893    505.722491   \n",
       "1886987043       -3555.0           0.0       0.000000      0.000000   \n",
       "1100632800       -1404.0        8282.0       0.138031    433.350044   \n",
       "\n",
       "            sensor_2_max  sensor_2_min  ...  sensor_9_mean  sensor_9_std  \\\n",
       "segment_id                              ...                                \n",
       "1136037770        5572.0       -5199.0  ...       1.465042    372.386746   \n",
       "1969647810        5111.0       -4267.0  ...       3.140131    404.904961   \n",
       "1895879680        7587.0       -6147.0  ...      -1.833336    261.360378   \n",
       "2068207140        2453.0       -2828.0  ...      -3.363227    232.926808   \n",
       "192955606            0.0           0.0  ...       1.622906    325.089448   \n",
       "...                  ...           ...  ...            ...           ...   \n",
       "873340274         6661.0       -5989.0  ...      -1.802253    574.012062   \n",
       "1297437712           0.0           0.0  ...       5.439909   1046.360969   \n",
       "694853998         4169.0       -4663.0  ...      -1.149198    139.755330   \n",
       "1886987043           0.0           0.0  ...       1.104332    295.773222   \n",
       "1100632800        3564.0       -3668.0  ...      -1.660022    246.262429   \n",
       "\n",
       "            sensor_9_max  sensor_9_min  sensor_10_sum  sensor_10_mean  \\\n",
       "segment_id                                                              \n",
       "1136037770        2021.0       -1747.0       155969.0        2.599440   \n",
       "1969647810        2189.0       -2615.0      1193751.0       19.895518   \n",
       "1895879680        1778.0       -1542.0        58087.0        0.968101   \n",
       "2068207140        1340.0       -1574.0       502895.0        8.381444   \n",
       "192955606         7725.0       -7252.0      -224432.0       -3.740471   \n",
       "...                  ...           ...            ...             ...   \n",
       "873340274         3085.0       -2399.0      -202647.0       -3.377394   \n",
       "1297437712       32767.0      -23269.0       656389.0       10.939634   \n",
       "694853998          897.0       -1002.0       -93024.0       -1.550374   \n",
       "1886987043        2015.0       -1619.0      -355511.0       -5.925085   \n",
       "1100632800        1416.0       -1966.0     -2735133.0      -45.584790   \n",
       "\n",
       "            sensor_10_std  sensor_10_max  sensor_10_min  time_to_eruption  \n",
       "segment_id                                                                 \n",
       "1136037770     596.865818         2187.0        -3527.0          12262005  \n",
       "1969647810     932.699662         5319.0        -4591.0          32739612  \n",
       "1895879680     500.544892         2522.0        -2798.0          14965999  \n",
       "2068207140     523.449843         3614.0        -2911.0          26469720  \n",
       "192955606      562.748316         3274.0        -2611.0          31072429  \n",
       "...                   ...            ...            ...               ...  \n",
       "873340274     1053.539787         5493.0        -5726.0          15695097  \n",
       "1297437712    1279.909391        14873.0       -13017.0          35659379  \n",
       "694853998      251.560198         1549.0        -1708.0          31206935  \n",
       "1886987043     597.353672         3628.0        -3588.0           9598270  \n",
       "1100632800     773.808829         3720.0        -4007.0          20128938  \n",
       "\n",
       "[4431 rows x 51 columns]"
      ]
     },
     "execution_count": 11,
     "metadata": {},
     "output_type": "execute_result"
    }
   ],
   "source": [
    "# combine new feature dataframe with given train dataframe\n",
    "train_df = pd.merge(train_df.reset_index(), train, on=['segment_id'], how='left').set_index('segment_id')\n",
    "train_df"
   ]
  },
  {
   "cell_type": "markdown",
   "metadata": {},
   "source": [
    "### 2. Check for missing values"
   ]
  },
  {
   "cell_type": "code",
   "execution_count": 12,
   "metadata": {},
   "outputs": [
    {
     "data": {
      "text/plain": [
       "sensor_1_sum     0\n",
       "sensor_1_mean    0\n",
       "sensor_1_std     0\n",
       "sensor_1_max     0\n",
       "sensor_1_min     0\n",
       "dtype: int64"
      ]
     },
     "execution_count": 12,
     "metadata": {},
     "output_type": "execute_result"
    }
   ],
   "source": [
    "train_df.isnull().sum().head()"
   ]
  },
  {
   "cell_type": "markdown",
   "metadata": {},
   "source": [
    "### 3.Checking for outliers"
   ]
  },
  {
   "cell_type": "code",
   "execution_count": 13,
   "metadata": {},
   "outputs": [
    {
     "data": {
      "text/html": [
       "<div>\n",
       "<style scoped>\n",
       "    .dataframe tbody tr th:only-of-type {\n",
       "        vertical-align: middle;\n",
       "    }\n",
       "\n",
       "    .dataframe tbody tr th {\n",
       "        vertical-align: top;\n",
       "    }\n",
       "\n",
       "    .dataframe thead th {\n",
       "        text-align: right;\n",
       "    }\n",
       "</style>\n",
       "<table border=\"1\" class=\"dataframe\">\n",
       "  <thead>\n",
       "    <tr style=\"text-align: right;\">\n",
       "      <th></th>\n",
       "      <th>sensor_1_sum</th>\n",
       "      <th>sensor_1_mean</th>\n",
       "      <th>sensor_1_std</th>\n",
       "      <th>sensor_1_max</th>\n",
       "      <th>sensor_1_min</th>\n",
       "      <th>sensor_2_sum</th>\n",
       "      <th>sensor_2_mean</th>\n",
       "      <th>sensor_2_std</th>\n",
       "      <th>sensor_2_max</th>\n",
       "      <th>sensor_2_min</th>\n",
       "      <th>...</th>\n",
       "      <th>sensor_9_mean</th>\n",
       "      <th>sensor_9_std</th>\n",
       "      <th>sensor_9_max</th>\n",
       "      <th>sensor_9_min</th>\n",
       "      <th>sensor_10_sum</th>\n",
       "      <th>sensor_10_mean</th>\n",
       "      <th>sensor_10_std</th>\n",
       "      <th>sensor_10_max</th>\n",
       "      <th>sensor_10_min</th>\n",
       "      <th>time_to_eruption</th>\n",
       "    </tr>\n",
       "    <tr>\n",
       "      <th>segment_id</th>\n",
       "      <th></th>\n",
       "      <th></th>\n",
       "      <th></th>\n",
       "      <th></th>\n",
       "      <th></th>\n",
       "      <th></th>\n",
       "      <th></th>\n",
       "      <th></th>\n",
       "      <th></th>\n",
       "      <th></th>\n",
       "      <th></th>\n",
       "      <th></th>\n",
       "      <th></th>\n",
       "      <th></th>\n",
       "      <th></th>\n",
       "      <th></th>\n",
       "      <th></th>\n",
       "      <th></th>\n",
       "      <th></th>\n",
       "      <th></th>\n",
       "      <th></th>\n",
       "    </tr>\n",
       "  </thead>\n",
       "  <tbody>\n",
       "    <tr>\n",
       "      <th>1136037770</th>\n",
       "      <td>-96621.0</td>\n",
       "      <td>-1.610323</td>\n",
       "      <td>303.096099</td>\n",
       "      <td>1353.0</td>\n",
       "      <td>-1421.0</td>\n",
       "      <td>276834.0</td>\n",
       "      <td>4.613823</td>\n",
       "      <td>678.330828</td>\n",
       "      <td>5572.0</td>\n",
       "      <td>-5199.0</td>\n",
       "      <td>...</td>\n",
       "      <td>1.465042</td>\n",
       "      <td>372.386746</td>\n",
       "      <td>2021.0</td>\n",
       "      <td>-1747.0</td>\n",
       "      <td>155969.0</td>\n",
       "      <td>2.599440</td>\n",
       "      <td>596.865818</td>\n",
       "      <td>2187.0</td>\n",
       "      <td>-3527.0</td>\n",
       "      <td>12262005</td>\n",
       "    </tr>\n",
       "    <tr>\n",
       "      <th>1969647810</th>\n",
       "      <td>85569.0</td>\n",
       "      <td>1.426126</td>\n",
       "      <td>438.360560</td>\n",
       "      <td>2197.0</td>\n",
       "      <td>-2005.0</td>\n",
       "      <td>149069.0</td>\n",
       "      <td>2.484442</td>\n",
       "      <td>661.163255</td>\n",
       "      <td>5111.0</td>\n",
       "      <td>-4267.0</td>\n",
       "      <td>...</td>\n",
       "      <td>3.140131</td>\n",
       "      <td>404.904961</td>\n",
       "      <td>2189.0</td>\n",
       "      <td>-2615.0</td>\n",
       "      <td>1193751.0</td>\n",
       "      <td>19.895518</td>\n",
       "      <td>932.699662</td>\n",
       "      <td>5319.0</td>\n",
       "      <td>-4591.0</td>\n",
       "      <td>32739612</td>\n",
       "    </tr>\n",
       "    <tr>\n",
       "      <th>1895879680</th>\n",
       "      <td>150278.0</td>\n",
       "      <td>2.504592</td>\n",
       "      <td>241.575415</td>\n",
       "      <td>1148.0</td>\n",
       "      <td>-1115.0</td>\n",
       "      <td>326988.0</td>\n",
       "      <td>5.449709</td>\n",
       "      <td>831.469221</td>\n",
       "      <td>7587.0</td>\n",
       "      <td>-6147.0</td>\n",
       "      <td>...</td>\n",
       "      <td>-1.833336</td>\n",
       "      <td>261.360378</td>\n",
       "      <td>1778.0</td>\n",
       "      <td>-1542.0</td>\n",
       "      <td>58087.0</td>\n",
       "      <td>0.968101</td>\n",
       "      <td>500.544892</td>\n",
       "      <td>2522.0</td>\n",
       "      <td>-2798.0</td>\n",
       "      <td>14965999</td>\n",
       "    </tr>\n",
       "    <tr>\n",
       "      <th>2068207140</th>\n",
       "      <td>129950.0</td>\n",
       "      <td>2.165797</td>\n",
       "      <td>221.967825</td>\n",
       "      <td>1254.0</td>\n",
       "      <td>-1025.0</td>\n",
       "      <td>-22403.0</td>\n",
       "      <td>-0.373377</td>\n",
       "      <td>425.189594</td>\n",
       "      <td>2453.0</td>\n",
       "      <td>-2828.0</td>\n",
       "      <td>...</td>\n",
       "      <td>-3.363227</td>\n",
       "      <td>232.926808</td>\n",
       "      <td>1340.0</td>\n",
       "      <td>-1574.0</td>\n",
       "      <td>502895.0</td>\n",
       "      <td>8.381444</td>\n",
       "      <td>523.449843</td>\n",
       "      <td>3614.0</td>\n",
       "      <td>-2911.0</td>\n",
       "      <td>26469720</td>\n",
       "    </tr>\n",
       "    <tr>\n",
       "      <th>192955606</th>\n",
       "      <td>4429.0</td>\n",
       "      <td>0.073815</td>\n",
       "      <td>261.695935</td>\n",
       "      <td>1114.0</td>\n",
       "      <td>-1190.0</td>\n",
       "      <td>0.0</td>\n",
       "      <td>0.000000</td>\n",
       "      <td>0.000000</td>\n",
       "      <td>0.0</td>\n",
       "      <td>0.0</td>\n",
       "      <td>...</td>\n",
       "      <td>1.622906</td>\n",
       "      <td>325.089448</td>\n",
       "      <td>7725.0</td>\n",
       "      <td>-7252.0</td>\n",
       "      <td>-224432.0</td>\n",
       "      <td>-3.740471</td>\n",
       "      <td>562.748316</td>\n",
       "      <td>3274.0</td>\n",
       "      <td>-2611.0</td>\n",
       "      <td>31072429</td>\n",
       "    </tr>\n",
       "  </tbody>\n",
       "</table>\n",
       "<p>5 rows × 51 columns</p>\n",
       "</div>"
      ],
      "text/plain": [
       "            sensor_1_sum  sensor_1_mean  sensor_1_std  sensor_1_max  \\\n",
       "segment_id                                                            \n",
       "1136037770      -96621.0      -1.610323    303.096099        1353.0   \n",
       "1969647810       85569.0       1.426126    438.360560        2197.0   \n",
       "1895879680      150278.0       2.504592    241.575415        1148.0   \n",
       "2068207140      129950.0       2.165797    221.967825        1254.0   \n",
       "192955606         4429.0       0.073815    261.695935        1114.0   \n",
       "\n",
       "            sensor_1_min  sensor_2_sum  sensor_2_mean  sensor_2_std  \\\n",
       "segment_id                                                            \n",
       "1136037770       -1421.0      276834.0       4.613823    678.330828   \n",
       "1969647810       -2005.0      149069.0       2.484442    661.163255   \n",
       "1895879680       -1115.0      326988.0       5.449709    831.469221   \n",
       "2068207140       -1025.0      -22403.0      -0.373377    425.189594   \n",
       "192955606        -1190.0           0.0       0.000000      0.000000   \n",
       "\n",
       "            sensor_2_max  sensor_2_min  ...  sensor_9_mean  sensor_9_std  \\\n",
       "segment_id                              ...                                \n",
       "1136037770        5572.0       -5199.0  ...       1.465042    372.386746   \n",
       "1969647810        5111.0       -4267.0  ...       3.140131    404.904961   \n",
       "1895879680        7587.0       -6147.0  ...      -1.833336    261.360378   \n",
       "2068207140        2453.0       -2828.0  ...      -3.363227    232.926808   \n",
       "192955606            0.0           0.0  ...       1.622906    325.089448   \n",
       "\n",
       "            sensor_9_max  sensor_9_min  sensor_10_sum  sensor_10_mean  \\\n",
       "segment_id                                                              \n",
       "1136037770        2021.0       -1747.0       155969.0        2.599440   \n",
       "1969647810        2189.0       -2615.0      1193751.0       19.895518   \n",
       "1895879680        1778.0       -1542.0        58087.0        0.968101   \n",
       "2068207140        1340.0       -1574.0       502895.0        8.381444   \n",
       "192955606         7725.0       -7252.0      -224432.0       -3.740471   \n",
       "\n",
       "            sensor_10_std  sensor_10_max  sensor_10_min  time_to_eruption  \n",
       "segment_id                                                                 \n",
       "1136037770     596.865818         2187.0        -3527.0          12262005  \n",
       "1969647810     932.699662         5319.0        -4591.0          32739612  \n",
       "1895879680     500.544892         2522.0        -2798.0          14965999  \n",
       "2068207140     523.449843         3614.0        -2911.0          26469720  \n",
       "192955606      562.748316         3274.0        -2611.0          31072429  \n",
       "\n",
       "[5 rows x 51 columns]"
      ]
     },
     "execution_count": 13,
     "metadata": {},
     "output_type": "execute_result"
    }
   ],
   "source": [
    "upper_lim = train_df['time_to_eruption'].quantile(.95)\n",
    "lower_lim = train_df['time_to_eruption'].quantile(.05)\n",
    "train_df[(train_df['time_to_eruption'] < upper_lim) & (train_df['time_to_eruption'] > lower_lim)]\n",
    "train_df.head()"
   ]
  },
  {
   "cell_type": "markdown",
   "metadata": {},
   "source": [
    "### 4. Log Transform"
   ]
  },
  {
   "cell_type": "code",
   "execution_count": 14,
   "metadata": {},
   "outputs": [
    {
     "data": {
      "text/html": [
       "<div>\n",
       "<style scoped>\n",
       "    .dataframe tbody tr th:only-of-type {\n",
       "        vertical-align: middle;\n",
       "    }\n",
       "\n",
       "    .dataframe tbody tr th {\n",
       "        vertical-align: top;\n",
       "    }\n",
       "\n",
       "    .dataframe thead th {\n",
       "        text-align: right;\n",
       "    }\n",
       "</style>\n",
       "<table border=\"1\" class=\"dataframe\">\n",
       "  <thead>\n",
       "    <tr style=\"text-align: right;\">\n",
       "      <th></th>\n",
       "      <th>sensor_1_sum</th>\n",
       "      <th>sensor_1_mean</th>\n",
       "      <th>sensor_1_std</th>\n",
       "      <th>sensor_1_max</th>\n",
       "      <th>sensor_1_min</th>\n",
       "      <th>sensor_2_sum</th>\n",
       "      <th>sensor_2_mean</th>\n",
       "      <th>sensor_2_std</th>\n",
       "      <th>sensor_2_max</th>\n",
       "      <th>sensor_2_min</th>\n",
       "      <th>...</th>\n",
       "      <th>sensor_9_std</th>\n",
       "      <th>sensor_9_max</th>\n",
       "      <th>sensor_9_min</th>\n",
       "      <th>sensor_10_sum</th>\n",
       "      <th>sensor_10_mean</th>\n",
       "      <th>sensor_10_std</th>\n",
       "      <th>sensor_10_max</th>\n",
       "      <th>sensor_10_min</th>\n",
       "      <th>time_to_eruption</th>\n",
       "      <th>target</th>\n",
       "    </tr>\n",
       "    <tr>\n",
       "      <th>segment_id</th>\n",
       "      <th></th>\n",
       "      <th></th>\n",
       "      <th></th>\n",
       "      <th></th>\n",
       "      <th></th>\n",
       "      <th></th>\n",
       "      <th></th>\n",
       "      <th></th>\n",
       "      <th></th>\n",
       "      <th></th>\n",
       "      <th></th>\n",
       "      <th></th>\n",
       "      <th></th>\n",
       "      <th></th>\n",
       "      <th></th>\n",
       "      <th></th>\n",
       "      <th></th>\n",
       "      <th></th>\n",
       "      <th></th>\n",
       "      <th></th>\n",
       "      <th></th>\n",
       "    </tr>\n",
       "  </thead>\n",
       "  <tbody>\n",
       "    <tr>\n",
       "      <th>1136037770</th>\n",
       "      <td>-96621.0</td>\n",
       "      <td>-1.610323</td>\n",
       "      <td>303.096099</td>\n",
       "      <td>1353.0</td>\n",
       "      <td>-1421.0</td>\n",
       "      <td>276834.0</td>\n",
       "      <td>4.613823</td>\n",
       "      <td>678.330828</td>\n",
       "      <td>5572.0</td>\n",
       "      <td>-5199.0</td>\n",
       "      <td>...</td>\n",
       "      <td>372.386746</td>\n",
       "      <td>2021.0</td>\n",
       "      <td>-1747.0</td>\n",
       "      <td>155969.0</td>\n",
       "      <td>2.599440</td>\n",
       "      <td>596.865818</td>\n",
       "      <td>2187.0</td>\n",
       "      <td>-3527.0</td>\n",
       "      <td>12262005</td>\n",
       "      <td>16.322016</td>\n",
       "    </tr>\n",
       "    <tr>\n",
       "      <th>1969647810</th>\n",
       "      <td>85569.0</td>\n",
       "      <td>1.426126</td>\n",
       "      <td>438.360560</td>\n",
       "      <td>2197.0</td>\n",
       "      <td>-2005.0</td>\n",
       "      <td>149069.0</td>\n",
       "      <td>2.484442</td>\n",
       "      <td>661.163255</td>\n",
       "      <td>5111.0</td>\n",
       "      <td>-4267.0</td>\n",
       "      <td>...</td>\n",
       "      <td>404.904961</td>\n",
       "      <td>2189.0</td>\n",
       "      <td>-2615.0</td>\n",
       "      <td>1193751.0</td>\n",
       "      <td>19.895518</td>\n",
       "      <td>932.699662</td>\n",
       "      <td>5319.0</td>\n",
       "      <td>-4591.0</td>\n",
       "      <td>32739612</td>\n",
       "      <td>17.304096</td>\n",
       "    </tr>\n",
       "    <tr>\n",
       "      <th>1895879680</th>\n",
       "      <td>150278.0</td>\n",
       "      <td>2.504592</td>\n",
       "      <td>241.575415</td>\n",
       "      <td>1148.0</td>\n",
       "      <td>-1115.0</td>\n",
       "      <td>326988.0</td>\n",
       "      <td>5.449709</td>\n",
       "      <td>831.469221</td>\n",
       "      <td>7587.0</td>\n",
       "      <td>-6147.0</td>\n",
       "      <td>...</td>\n",
       "      <td>261.360378</td>\n",
       "      <td>1778.0</td>\n",
       "      <td>-1542.0</td>\n",
       "      <td>58087.0</td>\n",
       "      <td>0.968101</td>\n",
       "      <td>500.544892</td>\n",
       "      <td>2522.0</td>\n",
       "      <td>-2798.0</td>\n",
       "      <td>14965999</td>\n",
       "      <td>16.521292</td>\n",
       "    </tr>\n",
       "    <tr>\n",
       "      <th>2068207140</th>\n",
       "      <td>129950.0</td>\n",
       "      <td>2.165797</td>\n",
       "      <td>221.967825</td>\n",
       "      <td>1254.0</td>\n",
       "      <td>-1025.0</td>\n",
       "      <td>-22403.0</td>\n",
       "      <td>-0.373377</td>\n",
       "      <td>425.189594</td>\n",
       "      <td>2453.0</td>\n",
       "      <td>-2828.0</td>\n",
       "      <td>...</td>\n",
       "      <td>232.926808</td>\n",
       "      <td>1340.0</td>\n",
       "      <td>-1574.0</td>\n",
       "      <td>502895.0</td>\n",
       "      <td>8.381444</td>\n",
       "      <td>523.449843</td>\n",
       "      <td>3614.0</td>\n",
       "      <td>-2911.0</td>\n",
       "      <td>26469720</td>\n",
       "      <td>17.091512</td>\n",
       "    </tr>\n",
       "    <tr>\n",
       "      <th>192955606</th>\n",
       "      <td>4429.0</td>\n",
       "      <td>0.073815</td>\n",
       "      <td>261.695935</td>\n",
       "      <td>1114.0</td>\n",
       "      <td>-1190.0</td>\n",
       "      <td>0.0</td>\n",
       "      <td>0.000000</td>\n",
       "      <td>0.000000</td>\n",
       "      <td>0.0</td>\n",
       "      <td>0.0</td>\n",
       "      <td>...</td>\n",
       "      <td>325.089448</td>\n",
       "      <td>7725.0</td>\n",
       "      <td>-7252.0</td>\n",
       "      <td>-224432.0</td>\n",
       "      <td>-3.740471</td>\n",
       "      <td>562.748316</td>\n",
       "      <td>3274.0</td>\n",
       "      <td>-2611.0</td>\n",
       "      <td>31072429</td>\n",
       "      <td>17.251831</td>\n",
       "    </tr>\n",
       "  </tbody>\n",
       "</table>\n",
       "<p>5 rows × 52 columns</p>\n",
       "</div>"
      ],
      "text/plain": [
       "            sensor_1_sum  sensor_1_mean  sensor_1_std  sensor_1_max  \\\n",
       "segment_id                                                            \n",
       "1136037770      -96621.0      -1.610323    303.096099        1353.0   \n",
       "1969647810       85569.0       1.426126    438.360560        2197.0   \n",
       "1895879680      150278.0       2.504592    241.575415        1148.0   \n",
       "2068207140      129950.0       2.165797    221.967825        1254.0   \n",
       "192955606         4429.0       0.073815    261.695935        1114.0   \n",
       "\n",
       "            sensor_1_min  sensor_2_sum  sensor_2_mean  sensor_2_std  \\\n",
       "segment_id                                                            \n",
       "1136037770       -1421.0      276834.0       4.613823    678.330828   \n",
       "1969647810       -2005.0      149069.0       2.484442    661.163255   \n",
       "1895879680       -1115.0      326988.0       5.449709    831.469221   \n",
       "2068207140       -1025.0      -22403.0      -0.373377    425.189594   \n",
       "192955606        -1190.0           0.0       0.000000      0.000000   \n",
       "\n",
       "            sensor_2_max  sensor_2_min  ...  sensor_9_std  sensor_9_max  \\\n",
       "segment_id                              ...                               \n",
       "1136037770        5572.0       -5199.0  ...    372.386746        2021.0   \n",
       "1969647810        5111.0       -4267.0  ...    404.904961        2189.0   \n",
       "1895879680        7587.0       -6147.0  ...    261.360378        1778.0   \n",
       "2068207140        2453.0       -2828.0  ...    232.926808        1340.0   \n",
       "192955606            0.0           0.0  ...    325.089448        7725.0   \n",
       "\n",
       "            sensor_9_min  sensor_10_sum  sensor_10_mean  sensor_10_std  \\\n",
       "segment_id                                                               \n",
       "1136037770       -1747.0       155969.0        2.599440     596.865818   \n",
       "1969647810       -2615.0      1193751.0       19.895518     932.699662   \n",
       "1895879680       -1542.0        58087.0        0.968101     500.544892   \n",
       "2068207140       -1574.0       502895.0        8.381444     523.449843   \n",
       "192955606        -7252.0      -224432.0       -3.740471     562.748316   \n",
       "\n",
       "            sensor_10_max  sensor_10_min  time_to_eruption     target  \n",
       "segment_id                                                             \n",
       "1136037770         2187.0        -3527.0          12262005  16.322016  \n",
       "1969647810         5319.0        -4591.0          32739612  17.304096  \n",
       "1895879680         2522.0        -2798.0          14965999  16.521292  \n",
       "2068207140         3614.0        -2911.0          26469720  17.091512  \n",
       "192955606          3274.0        -2611.0          31072429  17.251831  \n",
       "\n",
       "[5 rows x 52 columns]"
      ]
     },
     "execution_count": 14,
     "metadata": {},
     "output_type": "execute_result"
    }
   ],
   "source": [
    "train_df['target'] = (train_df['time_to_eruption']+1).transform(np.log)\n",
    "train_df.head()"
   ]
  },
  {
   "cell_type": "markdown",
   "metadata": {},
   "source": [
    "### 5 .Normalizing"
   ]
  },
  {
   "cell_type": "code",
   "execution_count": 15,
   "metadata": {},
   "outputs": [
    {
     "data": {
      "text/html": [
       "<div>\n",
       "<style scoped>\n",
       "    .dataframe tbody tr th:only-of-type {\n",
       "        vertical-align: middle;\n",
       "    }\n",
       "\n",
       "    .dataframe tbody tr th {\n",
       "        vertical-align: top;\n",
       "    }\n",
       "\n",
       "    .dataframe thead th {\n",
       "        text-align: right;\n",
       "    }\n",
       "</style>\n",
       "<table border=\"1\" class=\"dataframe\">\n",
       "  <thead>\n",
       "    <tr style=\"text-align: right;\">\n",
       "      <th></th>\n",
       "      <th>sensor_1_sum</th>\n",
       "      <th>sensor_1_mean</th>\n",
       "      <th>sensor_1_std</th>\n",
       "      <th>sensor_1_max</th>\n",
       "      <th>sensor_1_min</th>\n",
       "      <th>sensor_2_sum</th>\n",
       "      <th>sensor_2_mean</th>\n",
       "      <th>sensor_2_std</th>\n",
       "      <th>sensor_2_max</th>\n",
       "      <th>sensor_2_min</th>\n",
       "      <th>...</th>\n",
       "      <th>sensor_9_std</th>\n",
       "      <th>sensor_9_max</th>\n",
       "      <th>sensor_9_min</th>\n",
       "      <th>sensor_10_sum</th>\n",
       "      <th>sensor_10_mean</th>\n",
       "      <th>sensor_10_std</th>\n",
       "      <th>sensor_10_max</th>\n",
       "      <th>sensor_10_min</th>\n",
       "      <th>time_to_eruption</th>\n",
       "      <th>target</th>\n",
       "    </tr>\n",
       "  </thead>\n",
       "  <tbody>\n",
       "    <tr>\n",
       "      <th>0</th>\n",
       "      <td>0.633998</td>\n",
       "      <td>0.633998</td>\n",
       "      <td>0.014309</td>\n",
       "      <td>0.041292</td>\n",
       "      <td>0.956633</td>\n",
       "      <td>0.052884</td>\n",
       "      <td>0.052884</td>\n",
       "      <td>0.029807</td>\n",
       "      <td>0.170049</td>\n",
       "      <td>0.841334</td>\n",
       "      <td>...</td>\n",
       "      <td>0.019676</td>\n",
       "      <td>0.061678</td>\n",
       "      <td>0.946684</td>\n",
       "      <td>0.512612</td>\n",
       "      <td>0.512612</td>\n",
       "      <td>0.025458</td>\n",
       "      <td>0.066744</td>\n",
       "      <td>0.892361</td>\n",
       "      <td>0.249914</td>\n",
       "      <td>0.845418</td>\n",
       "    </tr>\n",
       "    <tr>\n",
       "      <th>1</th>\n",
       "      <td>0.637240</td>\n",
       "      <td>0.637240</td>\n",
       "      <td>0.020694</td>\n",
       "      <td>0.067049</td>\n",
       "      <td>0.938810</td>\n",
       "      <td>0.052434</td>\n",
       "      <td>0.052434</td>\n",
       "      <td>0.029053</td>\n",
       "      <td>0.155980</td>\n",
       "      <td>0.869778</td>\n",
       "      <td>...</td>\n",
       "      <td>0.021394</td>\n",
       "      <td>0.066805</td>\n",
       "      <td>0.920194</td>\n",
       "      <td>0.520879</td>\n",
       "      <td>0.520879</td>\n",
       "      <td>0.039782</td>\n",
       "      <td>0.162328</td>\n",
       "      <td>0.859890</td>\n",
       "      <td>0.667485</td>\n",
       "      <td>0.954930</td>\n",
       "    </tr>\n",
       "    <tr>\n",
       "      <th>2</th>\n",
       "      <td>0.638391</td>\n",
       "      <td>0.638391</td>\n",
       "      <td>0.011404</td>\n",
       "      <td>0.035035</td>\n",
       "      <td>0.965972</td>\n",
       "      <td>0.053061</td>\n",
       "      <td>0.053061</td>\n",
       "      <td>0.036537</td>\n",
       "      <td>0.231544</td>\n",
       "      <td>0.812403</td>\n",
       "      <td>...</td>\n",
       "      <td>0.013810</td>\n",
       "      <td>0.054262</td>\n",
       "      <td>0.952940</td>\n",
       "      <td>0.511832</td>\n",
       "      <td>0.511832</td>\n",
       "      <td>0.021349</td>\n",
       "      <td>0.076968</td>\n",
       "      <td>0.914609</td>\n",
       "      <td>0.305053</td>\n",
       "      <td>0.867639</td>\n",
       "    </tr>\n",
       "    <tr>\n",
       "      <th>3</th>\n",
       "      <td>0.638029</td>\n",
       "      <td>0.638029</td>\n",
       "      <td>0.010479</td>\n",
       "      <td>0.038270</td>\n",
       "      <td>0.968719</td>\n",
       "      <td>0.051829</td>\n",
       "      <td>0.051829</td>\n",
       "      <td>0.018684</td>\n",
       "      <td>0.074862</td>\n",
       "      <td>0.913694</td>\n",
       "      <td>...</td>\n",
       "      <td>0.012307</td>\n",
       "      <td>0.040895</td>\n",
       "      <td>0.951964</td>\n",
       "      <td>0.515376</td>\n",
       "      <td>0.515376</td>\n",
       "      <td>0.022326</td>\n",
       "      <td>0.110294</td>\n",
       "      <td>0.911161</td>\n",
       "      <td>0.539632</td>\n",
       "      <td>0.931225</td>\n",
       "    </tr>\n",
       "    <tr>\n",
       "      <th>4</th>\n",
       "      <td>0.635796</td>\n",
       "      <td>0.635796</td>\n",
       "      <td>0.012354</td>\n",
       "      <td>0.033998</td>\n",
       "      <td>0.963683</td>\n",
       "      <td>0.051908</td>\n",
       "      <td>0.051908</td>\n",
       "      <td>0.000000</td>\n",
       "      <td>0.000000</td>\n",
       "      <td>1.000000</td>\n",
       "      <td>...</td>\n",
       "      <td>0.017177</td>\n",
       "      <td>0.235755</td>\n",
       "      <td>0.778680</td>\n",
       "      <td>0.509582</td>\n",
       "      <td>0.509582</td>\n",
       "      <td>0.024003</td>\n",
       "      <td>0.099918</td>\n",
       "      <td>0.920316</td>\n",
       "      <td>0.633489</td>\n",
       "      <td>0.949102</td>\n",
       "    </tr>\n",
       "  </tbody>\n",
       "</table>\n",
       "<p>5 rows × 52 columns</p>\n",
       "</div>"
      ],
      "text/plain": [
       "   sensor_1_sum  sensor_1_mean  sensor_1_std  sensor_1_max  sensor_1_min  \\\n",
       "0      0.633998       0.633998      0.014309      0.041292      0.956633   \n",
       "1      0.637240       0.637240      0.020694      0.067049      0.938810   \n",
       "2      0.638391       0.638391      0.011404      0.035035      0.965972   \n",
       "3      0.638029       0.638029      0.010479      0.038270      0.968719   \n",
       "4      0.635796       0.635796      0.012354      0.033998      0.963683   \n",
       "\n",
       "   sensor_2_sum  sensor_2_mean  sensor_2_std  sensor_2_max  sensor_2_min  ...  \\\n",
       "0      0.052884       0.052884      0.029807      0.170049      0.841334  ...   \n",
       "1      0.052434       0.052434      0.029053      0.155980      0.869778  ...   \n",
       "2      0.053061       0.053061      0.036537      0.231544      0.812403  ...   \n",
       "3      0.051829       0.051829      0.018684      0.074862      0.913694  ...   \n",
       "4      0.051908       0.051908      0.000000      0.000000      1.000000  ...   \n",
       "\n",
       "   sensor_9_std  sensor_9_max  sensor_9_min  sensor_10_sum  sensor_10_mean  \\\n",
       "0      0.019676      0.061678      0.946684       0.512612        0.512612   \n",
       "1      0.021394      0.066805      0.920194       0.520879        0.520879   \n",
       "2      0.013810      0.054262      0.952940       0.511832        0.511832   \n",
       "3      0.012307      0.040895      0.951964       0.515376        0.515376   \n",
       "4      0.017177      0.235755      0.778680       0.509582        0.509582   \n",
       "\n",
       "   sensor_10_std  sensor_10_max  sensor_10_min  time_to_eruption    target  \n",
       "0       0.025458       0.066744       0.892361          0.249914  0.845418  \n",
       "1       0.039782       0.162328       0.859890          0.667485  0.954930  \n",
       "2       0.021349       0.076968       0.914609          0.305053  0.867639  \n",
       "3       0.022326       0.110294       0.911161          0.539632  0.931225  \n",
       "4       0.024003       0.099918       0.920316          0.633489  0.949102  \n",
       "\n",
       "[5 rows x 52 columns]"
      ]
     },
     "execution_count": 15,
     "metadata": {},
     "output_type": "execute_result"
    }
   ],
   "source": [
    "feature_scale=[feature for feature in train_df.columns ]\n",
    "\n",
    "from sklearn.preprocessing import MinMaxScaler\n",
    "scaler=MinMaxScaler()\n",
    "scaler.fit(train_df[feature_scale])\n",
    "train_df =pd.DataFrame(scaler.transform(train_df[feature_scale]), columns=feature_scale)\n",
    "train_df.head()"
   ]
  },
  {
   "cell_type": "code",
   "execution_count": 16,
   "metadata": {},
   "outputs": [
    {
     "data": {
      "text/html": [
       "<div>\n",
       "<style scoped>\n",
       "    .dataframe tbody tr th:only-of-type {\n",
       "        vertical-align: middle;\n",
       "    }\n",
       "\n",
       "    .dataframe tbody tr th {\n",
       "        vertical-align: top;\n",
       "    }\n",
       "\n",
       "    .dataframe thead th {\n",
       "        text-align: right;\n",
       "    }\n",
       "</style>\n",
       "<table border=\"1\" class=\"dataframe\">\n",
       "  <thead>\n",
       "    <tr style=\"text-align: right;\">\n",
       "      <th></th>\n",
       "      <th>sensor_1_sum</th>\n",
       "      <th>sensor_1_mean</th>\n",
       "      <th>sensor_1_std</th>\n",
       "      <th>sensor_1_max</th>\n",
       "      <th>sensor_1_min</th>\n",
       "      <th>sensor_2_sum</th>\n",
       "      <th>sensor_2_mean</th>\n",
       "      <th>sensor_2_std</th>\n",
       "      <th>sensor_2_max</th>\n",
       "      <th>sensor_2_min</th>\n",
       "      <th>...</th>\n",
       "      <th>sensor_9_mean</th>\n",
       "      <th>sensor_9_std</th>\n",
       "      <th>sensor_9_max</th>\n",
       "      <th>sensor_9_min</th>\n",
       "      <th>sensor_10_sum</th>\n",
       "      <th>sensor_10_mean</th>\n",
       "      <th>sensor_10_std</th>\n",
       "      <th>sensor_10_max</th>\n",
       "      <th>sensor_10_min</th>\n",
       "      <th>target</th>\n",
       "    </tr>\n",
       "  </thead>\n",
       "  <tbody>\n",
       "    <tr>\n",
       "      <th>0</th>\n",
       "      <td>0.633998</td>\n",
       "      <td>0.633998</td>\n",
       "      <td>0.014309</td>\n",
       "      <td>0.041292</td>\n",
       "      <td>0.956633</td>\n",
       "      <td>0.052884</td>\n",
       "      <td>0.052884</td>\n",
       "      <td>0.029807</td>\n",
       "      <td>0.170049</td>\n",
       "      <td>0.841334</td>\n",
       "      <td>...</td>\n",
       "      <td>0.359502</td>\n",
       "      <td>0.019676</td>\n",
       "      <td>0.061678</td>\n",
       "      <td>0.946684</td>\n",
       "      <td>0.512612</td>\n",
       "      <td>0.512612</td>\n",
       "      <td>0.025458</td>\n",
       "      <td>0.066744</td>\n",
       "      <td>0.892361</td>\n",
       "      <td>0.845418</td>\n",
       "    </tr>\n",
       "    <tr>\n",
       "      <th>1</th>\n",
       "      <td>0.637240</td>\n",
       "      <td>0.637240</td>\n",
       "      <td>0.020694</td>\n",
       "      <td>0.067049</td>\n",
       "      <td>0.938810</td>\n",
       "      <td>0.052434</td>\n",
       "      <td>0.052434</td>\n",
       "      <td>0.029053</td>\n",
       "      <td>0.155980</td>\n",
       "      <td>0.869778</td>\n",
       "      <td>...</td>\n",
       "      <td>0.360931</td>\n",
       "      <td>0.021394</td>\n",
       "      <td>0.066805</td>\n",
       "      <td>0.920194</td>\n",
       "      <td>0.520879</td>\n",
       "      <td>0.520879</td>\n",
       "      <td>0.039782</td>\n",
       "      <td>0.162328</td>\n",
       "      <td>0.859890</td>\n",
       "      <td>0.954930</td>\n",
       "    </tr>\n",
       "    <tr>\n",
       "      <th>2</th>\n",
       "      <td>0.638391</td>\n",
       "      <td>0.638391</td>\n",
       "      <td>0.011404</td>\n",
       "      <td>0.035035</td>\n",
       "      <td>0.965972</td>\n",
       "      <td>0.053061</td>\n",
       "      <td>0.053061</td>\n",
       "      <td>0.036537</td>\n",
       "      <td>0.231544</td>\n",
       "      <td>0.812403</td>\n",
       "      <td>...</td>\n",
       "      <td>0.356688</td>\n",
       "      <td>0.013810</td>\n",
       "      <td>0.054262</td>\n",
       "      <td>0.952940</td>\n",
       "      <td>0.511832</td>\n",
       "      <td>0.511832</td>\n",
       "      <td>0.021349</td>\n",
       "      <td>0.076968</td>\n",
       "      <td>0.914609</td>\n",
       "      <td>0.867639</td>\n",
       "    </tr>\n",
       "    <tr>\n",
       "      <th>3</th>\n",
       "      <td>0.638029</td>\n",
       "      <td>0.638029</td>\n",
       "      <td>0.010479</td>\n",
       "      <td>0.038270</td>\n",
       "      <td>0.968719</td>\n",
       "      <td>0.051829</td>\n",
       "      <td>0.051829</td>\n",
       "      <td>0.018684</td>\n",
       "      <td>0.074862</td>\n",
       "      <td>0.913694</td>\n",
       "      <td>...</td>\n",
       "      <td>0.355383</td>\n",
       "      <td>0.012307</td>\n",
       "      <td>0.040895</td>\n",
       "      <td>0.951964</td>\n",
       "      <td>0.515376</td>\n",
       "      <td>0.515376</td>\n",
       "      <td>0.022326</td>\n",
       "      <td>0.110294</td>\n",
       "      <td>0.911161</td>\n",
       "      <td>0.931225</td>\n",
       "    </tr>\n",
       "    <tr>\n",
       "      <th>4</th>\n",
       "      <td>0.635796</td>\n",
       "      <td>0.635796</td>\n",
       "      <td>0.012354</td>\n",
       "      <td>0.033998</td>\n",
       "      <td>0.963683</td>\n",
       "      <td>0.051908</td>\n",
       "      <td>0.051908</td>\n",
       "      <td>0.000000</td>\n",
       "      <td>0.000000</td>\n",
       "      <td>1.000000</td>\n",
       "      <td>...</td>\n",
       "      <td>0.359637</td>\n",
       "      <td>0.017177</td>\n",
       "      <td>0.235755</td>\n",
       "      <td>0.778680</td>\n",
       "      <td>0.509582</td>\n",
       "      <td>0.509582</td>\n",
       "      <td>0.024003</td>\n",
       "      <td>0.099918</td>\n",
       "      <td>0.920316</td>\n",
       "      <td>0.949102</td>\n",
       "    </tr>\n",
       "  </tbody>\n",
       "</table>\n",
       "<p>5 rows × 51 columns</p>\n",
       "</div>"
      ],
      "text/plain": [
       "   sensor_1_sum  sensor_1_mean  sensor_1_std  sensor_1_max  sensor_1_min  \\\n",
       "0      0.633998       0.633998      0.014309      0.041292      0.956633   \n",
       "1      0.637240       0.637240      0.020694      0.067049      0.938810   \n",
       "2      0.638391       0.638391      0.011404      0.035035      0.965972   \n",
       "3      0.638029       0.638029      0.010479      0.038270      0.968719   \n",
       "4      0.635796       0.635796      0.012354      0.033998      0.963683   \n",
       "\n",
       "   sensor_2_sum  sensor_2_mean  sensor_2_std  sensor_2_max  sensor_2_min  ...  \\\n",
       "0      0.052884       0.052884      0.029807      0.170049      0.841334  ...   \n",
       "1      0.052434       0.052434      0.029053      0.155980      0.869778  ...   \n",
       "2      0.053061       0.053061      0.036537      0.231544      0.812403  ...   \n",
       "3      0.051829       0.051829      0.018684      0.074862      0.913694  ...   \n",
       "4      0.051908       0.051908      0.000000      0.000000      1.000000  ...   \n",
       "\n",
       "   sensor_9_mean  sensor_9_std  sensor_9_max  sensor_9_min  sensor_10_sum  \\\n",
       "0       0.359502      0.019676      0.061678      0.946684       0.512612   \n",
       "1       0.360931      0.021394      0.066805      0.920194       0.520879   \n",
       "2       0.356688      0.013810      0.054262      0.952940       0.511832   \n",
       "3       0.355383      0.012307      0.040895      0.951964       0.515376   \n",
       "4       0.359637      0.017177      0.235755      0.778680       0.509582   \n",
       "\n",
       "   sensor_10_mean  sensor_10_std  sensor_10_max  sensor_10_min    target  \n",
       "0        0.512612       0.025458       0.066744       0.892361  0.845418  \n",
       "1        0.520879       0.039782       0.162328       0.859890  0.954930  \n",
       "2        0.511832       0.021349       0.076968       0.914609  0.867639  \n",
       "3        0.515376       0.022326       0.110294       0.911161  0.931225  \n",
       "4        0.509582       0.024003       0.099918       0.920316  0.949102  \n",
       "\n",
       "[5 rows x 51 columns]"
      ]
     },
     "execution_count": 16,
     "metadata": {},
     "output_type": "execute_result"
    }
   ],
   "source": [
    "#Dropping time to eruption as column target is the new target value.\n",
    "train_df=train_df.drop(['time_to_eruption'], axis=1)\n",
    "train_df.head()\n"
   ]
  },
  {
   "cell_type": "code",
   "execution_count": 37,
   "metadata": {},
   "outputs": [],
   "source": [
    "features=train_df"
   ]
  },
  {
   "cell_type": "code",
   "execution_count": 38,
   "metadata": {},
   "outputs": [
    {
     "data": {
      "text/plain": [
       "Index(['sensor_1_sum', 'sensor_1_std', 'sensor_1_max', 'sensor_2_sum',\n",
       "       'sensor_2_std', 'sensor_2_max', 'sensor_3_sum', 'sensor_3_max',\n",
       "       'sensor_4_sum', 'sensor_4_max', 'sensor_5_sum', 'sensor_5_std',\n",
       "       'sensor_5_max', 'sensor_6_sum', 'sensor_6_std', 'sensor_6_max',\n",
       "       'sensor_7_sum', 'sensor_7_std', 'sensor_7_max', 'sensor_8_sum',\n",
       "       'sensor_8_std', 'sensor_8_max', 'sensor_9_sum', 'sensor_9_max',\n",
       "       'sensor_10_sum', 'sensor_10_max', 'target'],\n",
       "      dtype='object')"
      ]
     },
     "execution_count": 38,
     "metadata": {},
     "output_type": "execute_result"
    }
   ],
   "source": [
    "features.columns"
   ]
  },
  {
   "cell_type": "markdown",
   "metadata": {},
   "source": [
    "## Dimension Reduction "
   ]
  },
  {
   "cell_type": "markdown",
   "metadata": {},
   "source": [
    "### 1. Droping columns that are highly correlated "
   ]
  },
  {
   "cell_type": "code",
   "execution_count": 39,
   "metadata": {},
   "outputs": [],
   "source": [
    "#Using variance\n",
    "#train_df.loc[:, train_df.var() > 0.5]\n",
    "\n",
    "# Create correlation matrix\n",
    "corr_matrix = features.corr().abs()\n",
    "\n",
    "# Select upper triangle of correlation matrix\n",
    "upper = corr_matrix.where(np.triu(np.ones(corr_matrix.shape), k=1).astype(np.bool))\n",
    "\n",
    "# Find index of feature columns with correlation greater than 0.95\n",
    "to_drop = [column for column in upper.columns if any(upper[column] > 0.95)]"
   ]
  },
  {
   "cell_type": "code",
   "execution_count": 40,
   "metadata": {},
   "outputs": [],
   "source": [
    "features.drop(features[to_drop],axis=1,inplace=True)"
   ]
  },
  {
   "cell_type": "code",
   "execution_count": 41,
   "metadata": {},
   "outputs": [],
   "source": [
    "#Setting target value\n",
    "y=features['target']\n",
    "features=features.drop('target',axis=1)\n",
    "\n"
   ]
  },
  {
   "cell_type": "code",
   "execution_count": 42,
   "metadata": {},
   "outputs": [],
   "source": [
    "# Dropping duplicate column names that may have been created after join\n",
    "\n",
    "newdf=features.loc[:,~features.columns.duplicated()]"
   ]
  },
  {
   "cell_type": "markdown",
   "metadata": {},
   "source": [
    "### 2.Feature Importance using Random Forest Regressor"
   ]
  },
  {
   "cell_type": "code",
   "execution_count": 43,
   "metadata": {},
   "outputs": [
    {
     "data": {
      "text/plain": [
       "RandomForestRegressor(max_depth=10, random_state=1)"
      ]
     },
     "execution_count": 43,
     "metadata": {},
     "output_type": "execute_result"
    }
   ],
   "source": [
    "from sklearn.ensemble import RandomForestRegressor\n",
    "from pprint import pprint\n",
    "from sklearn import metrics\n",
    "\n",
    "model = RandomForestRegressor(random_state=1, max_depth=10)\n",
    "# train_df=pd.get_dummies(train_df)\n",
    "model.fit(features,y)"
   ]
  },
  {
   "cell_type": "code",
   "execution_count": 48,
   "metadata": {},
   "outputs": [
    {
     "data": {
      "text/plain": [
       "{0.2352619421115084: 'sensor_2_std',\n",
       " 0.17489499788775612: 'sensor_5_std',\n",
       " 0.10683472867366305: 'sensor_6_std',\n",
       " 0.06541205306300371: 'sensor_3_max',\n",
       " 0.05119893019420825: 'sensor_8_std',\n",
       " 0.047798506142045: 'sensor_1_std',\n",
       " 0.03482089163494547: 'sensor_7_std',\n",
       " 0.03184172293589694: 'sensor_2_max',\n",
       " 0.028831141576739744: 'sensor_4_sum',\n",
       " 0.02843132828497513: 'sensor_5_max',\n",
       " 0.022456823677472287: 'sensor_9_max',\n",
       " 0.021942651616154947: 'sensor_1_max',\n",
       " 0.021536613143303948: 'sensor_6_max',\n",
       " 0.016897457407440346: 'sensor_8_max',\n",
       " 0.013916209334621012: 'sensor_5_sum',\n",
       " 0.01368230717100887: 'sensor_10_max',\n",
       " 0.01303024625748825: 'sensor_7_max',\n",
       " 0.011745366664253201: 'sensor_8_sum',\n",
       " 0.01013272531775427: 'sensor_4_max',\n",
       " 0.009263776968861605: 'sensor_10_sum',\n",
       " 0.009187625927018238: 'sensor_6_sum',\n",
       " 0.0071441554282835745: 'sensor_1_sum',\n",
       " 0.00660577701719704: 'sensor_7_sum',\n",
       " 0.006565999501994688: 'sensor_2_sum',\n",
       " 0.005747665374428873: 'sensor_9_sum',\n",
       " 0.004818356687977018: 'sensor_3_sum'}"
      ]
     },
     "execution_count": 48,
     "metadata": {},
     "output_type": "execute_result"
    }
   ],
   "source": [
    "dict(reversed(sorted(zip(model.feature_importances_, train_df.columns.values))))"
   ]
  },
  {
   "cell_type": "markdown",
   "metadata": {},
   "source": [
    "### 3. Feature Importance using PCA"
   ]
  },
  {
   "cell_type": "code",
   "execution_count": 49,
   "metadata": {},
   "outputs": [],
   "source": [
    "from sklearn.decomposition import PCA\n",
    "from sklearn.model_selection import train_test_split\n",
    "x_train, x_test, y_train, y_test = train_test_split(features, y, test_size=0.3, random_state=0)\n",
    "cols=list(x_train.columns)\n",
    "pca = PCA(n_components = 25)\n",
    "x_train = pca.fit_transform(x_train) \n",
    "x_test = pca.transform(x_test)"
   ]
  },
  {
   "cell_type": "code",
   "execution_count": 50,
   "metadata": {},
   "outputs": [
    {
     "data": {
      "text/plain": [
       "array([0.66029891, 0.76948124, 0.83696789, 0.87746479, 0.8995431 ])"
      ]
     },
     "execution_count": 50,
     "metadata": {},
     "output_type": "execute_result"
    }
   ],
   "source": [
    "explained_variance = pca.explained_variance_ratio_\n",
    "np.cumsum(pca.explained_variance_ratio_)[0:5]"
   ]
  },
  {
   "cell_type": "code",
   "execution_count": 51,
   "metadata": {},
   "outputs": [
    {
     "data": {
      "image/png": "[encoded data removed]",
      "text/plain": [
       "<Figure size 720x576 with 1 Axes>"
      ]
     },
     "metadata": {
      "needs_background": "light"
     },
     "output_type": "display_data"
    }
   ],
   "source": [
    "plt.figure(figsize = (10, 8))\n",
    "plt.plot(np.cumsum(pca.explained_variance_ratio_))\n",
    "plt.xlabel('number of components', fontsize = 14)\n",
    "plt.ylabel('cumulative explained variance', fontsize = 14)\n",
    "\n",
    "plt.grid(True);"
   ]
  },
  {
   "cell_type": "code",
   "execution_count": 55,
   "metadata": {},
   "outputs": [
    {
     "data": {
      "text/plain": [
       "RandomForestRegressor(n_estimators=400)"
      ]
     },
     "execution_count": 55,
     "metadata": {},
     "output_type": "execute_result"
    }
   ],
   "source": [
    "rf_base = RandomForestRegressor(n_estimators=400)\n",
    "rf_base.fit(x_train, y_train)\n",
    "# y_pred_rf_base = rf_base.predict(x_test)\n",
    "\n",
    "# rf_base.score(x_test,y_test)"
   ]
  },
  {
   "cell_type": "code",
   "execution_count": 56,
   "metadata": {},
   "outputs": [],
   "source": [
    "imp_features = []\n",
    "for i in range(25):\n",
    "   \n",
    "    imp_features_index = np.abs(pca.components_[i]).argmax()\n",
    "    imp_features.append(cols[imp_features_index])\n",
    "    \n",
    "imp_features_dict = {'PC{}'.format(i+1): imp_features[i] for i in range(25)}\n",
    "feature_col=pd.DataFrame(list(imp_features_dict.items()), columns=['PC', 'Name'])"
   ]
  },
  {
   "cell_type": "code",
   "execution_count": 57,
   "metadata": {},
   "outputs": [
    {
     "data": {
      "text/html": [
       "<div>\n",
       "<style scoped>\n",
       "    .dataframe tbody tr th:only-of-type {\n",
       "        vertical-align: middle;\n",
       "    }\n",
       "\n",
       "    .dataframe tbody tr th {\n",
       "        vertical-align: top;\n",
       "    }\n",
       "\n",
       "    .dataframe thead th {\n",
       "        text-align: right;\n",
       "    }\n",
       "</style>\n",
       "<table border=\"1\" class=\"dataframe\">\n",
       "  <thead>\n",
       "    <tr style=\"text-align: right;\">\n",
       "      <th></th>\n",
       "      <th>PC</th>\n",
       "      <th>Name</th>\n",
       "    </tr>\n",
       "  </thead>\n",
       "  <tbody>\n",
       "    <tr>\n",
       "      <th>0</th>\n",
       "      <td>PC1</td>\n",
       "      <td>sensor_2_max</td>\n",
       "    </tr>\n",
       "    <tr>\n",
       "      <th>1</th>\n",
       "      <td>PC2</td>\n",
       "      <td>sensor_2_max</td>\n",
       "    </tr>\n",
       "    <tr>\n",
       "      <th>2</th>\n",
       "      <td>PC3</td>\n",
       "      <td>sensor_8_max</td>\n",
       "    </tr>\n",
       "    <tr>\n",
       "      <th>3</th>\n",
       "      <td>PC4</td>\n",
       "      <td>sensor_6_max</td>\n",
       "    </tr>\n",
       "    <tr>\n",
       "      <th>4</th>\n",
       "      <td>PC5</td>\n",
       "      <td>sensor_10_max</td>\n",
       "    </tr>\n",
       "  </tbody>\n",
       "</table>\n",
       "</div>"
      ],
      "text/plain": [
       "    PC           Name\n",
       "0  PC1   sensor_2_max\n",
       "1  PC2   sensor_2_max\n",
       "2  PC3   sensor_8_max\n",
       "3  PC4   sensor_6_max\n",
       "4  PC5  sensor_10_max"
      ]
     },
     "execution_count": 57,
     "metadata": {},
     "output_type": "execute_result"
    }
   ],
   "source": [
    "feature_col.head()"
   ]
  },
  {
   "cell_type": "code",
   "execution_count": 58,
   "metadata": {},
   "outputs": [
    {
     "data": {
      "image/png": "[encoded data removed]",
      "text/plain": [
       "<Figure size 432x288 with 1 Axes>"
      ]
     },
     "metadata": {
      "needs_background": "light"
     },
     "output_type": "display_data"
    }
   ],
   "source": [
    "importances = rf_base.feature_importances_\n",
    "indices = np.argsort(importances)\n",
    "features_df = list(feature_col['Name'])\n",
    "plt.title('Feature Importances')\n",
    "plt.barh(range(len(indices)), importances[indices], color='b', align='center')\n",
    "plt.yticks(range(len(indices)), [features_df[i] for i in indices])\n",
    "plt.xlabel('Relative Importance')\n",
    "plt.show()"
   ]
  },
  {
   "cell_type": "code",
   "execution_count": 59,
   "metadata": {},
   "outputs": [
    {
     "data": {
      "text/html": [
       "<div>\n",
       "<style scoped>\n",
       "    .dataframe tbody tr th:only-of-type {\n",
       "        vertical-align: middle;\n",
       "    }\n",
       "\n",
       "    .dataframe tbody tr th {\n",
       "        vertical-align: top;\n",
       "    }\n",
       "\n",
       "    .dataframe thead th {\n",
       "        text-align: right;\n",
       "    }\n",
       "</style>\n",
       "<table border=\"1\" class=\"dataframe\">\n",
       "  <thead>\n",
       "    <tr style=\"text-align: right;\">\n",
       "      <th></th>\n",
       "      <th>sensor_2_max</th>\n",
       "      <th>sensor_2_max</th>\n",
       "      <th>sensor_8_max</th>\n",
       "      <th>sensor_6_max</th>\n",
       "      <th>sensor_10_max</th>\n",
       "      <th>sensor_5_max</th>\n",
       "      <th>sensor_7_max</th>\n",
       "      <th>sensor_4_max</th>\n",
       "      <th>sensor_3_max</th>\n",
       "      <th>sensor_2_std</th>\n",
       "      <th>...</th>\n",
       "      <th>sensor_3_sum</th>\n",
       "      <th>sensor_2_sum</th>\n",
       "      <th>sensor_4_sum</th>\n",
       "      <th>sensor_10_sum</th>\n",
       "      <th>sensor_6_sum</th>\n",
       "      <th>sensor_5_std</th>\n",
       "      <th>sensor_6_sum</th>\n",
       "      <th>sensor_1_sum</th>\n",
       "      <th>sensor_9_sum</th>\n",
       "      <th>sensor_8_sum</th>\n",
       "    </tr>\n",
       "  </thead>\n",
       "  <tbody>\n",
       "    <tr>\n",
       "      <th>0</th>\n",
       "      <td>0.170049</td>\n",
       "      <td>0.170049</td>\n",
       "      <td>0.077639</td>\n",
       "      <td>0.056835</td>\n",
       "      <td>0.066744</td>\n",
       "      <td>0.000000</td>\n",
       "      <td>0.090609</td>\n",
       "      <td>0.035005</td>\n",
       "      <td>0.043123</td>\n",
       "      <td>0.029807</td>\n",
       "      <td>...</td>\n",
       "      <td>0.513164</td>\n",
       "      <td>0.052884</td>\n",
       "      <td>0.413927</td>\n",
       "      <td>0.512612</td>\n",
       "      <td>0.435128</td>\n",
       "      <td>0.000000</td>\n",
       "      <td>0.435128</td>\n",
       "      <td>0.633998</td>\n",
       "      <td>0.359502</td>\n",
       "      <td>0.569690</td>\n",
       "    </tr>\n",
       "    <tr>\n",
       "      <th>1</th>\n",
       "      <td>0.155980</td>\n",
       "      <td>0.155980</td>\n",
       "      <td>0.045045</td>\n",
       "      <td>0.039922</td>\n",
       "      <td>0.162328</td>\n",
       "      <td>0.053835</td>\n",
       "      <td>0.074526</td>\n",
       "      <td>0.041963</td>\n",
       "      <td>0.052583</td>\n",
       "      <td>0.029053</td>\n",
       "      <td>...</td>\n",
       "      <td>0.507557</td>\n",
       "      <td>0.052434</td>\n",
       "      <td>0.410557</td>\n",
       "      <td>0.520879</td>\n",
       "      <td>0.435617</td>\n",
       "      <td>0.020098</td>\n",
       "      <td>0.435617</td>\n",
       "      <td>0.637240</td>\n",
       "      <td>0.360931</td>\n",
       "      <td>0.568307</td>\n",
       "    </tr>\n",
       "    <tr>\n",
       "      <th>2</th>\n",
       "      <td>0.231544</td>\n",
       "      <td>0.231544</td>\n",
       "      <td>0.036683</td>\n",
       "      <td>0.029848</td>\n",
       "      <td>0.076968</td>\n",
       "      <td>0.000000</td>\n",
       "      <td>0.048860</td>\n",
       "      <td>0.031402</td>\n",
       "      <td>0.035371</td>\n",
       "      <td>0.036537</td>\n",
       "      <td>...</td>\n",
       "      <td>0.508621</td>\n",
       "      <td>0.053061</td>\n",
       "      <td>0.411055</td>\n",
       "      <td>0.511832</td>\n",
       "      <td>0.432753</td>\n",
       "      <td>0.000000</td>\n",
       "      <td>0.432753</td>\n",
       "      <td>0.638391</td>\n",
       "      <td>0.356688</td>\n",
       "      <td>0.566532</td>\n",
       "    </tr>\n",
       "    <tr>\n",
       "      <th>3</th>\n",
       "      <td>0.074862</td>\n",
       "      <td>0.074862</td>\n",
       "      <td>0.047060</td>\n",
       "      <td>0.044181</td>\n",
       "      <td>0.110294</td>\n",
       "      <td>0.035585</td>\n",
       "      <td>0.048097</td>\n",
       "      <td>0.015002</td>\n",
       "      <td>0.041047</td>\n",
       "      <td>0.018684</td>\n",
       "      <td>...</td>\n",
       "      <td>0.507641</td>\n",
       "      <td>0.051829</td>\n",
       "      <td>0.410904</td>\n",
       "      <td>0.515376</td>\n",
       "      <td>0.440970</td>\n",
       "      <td>0.012287</td>\n",
       "      <td>0.440970</td>\n",
       "      <td>0.638029</td>\n",
       "      <td>0.355383</td>\n",
       "      <td>0.568843</td>\n",
       "    </tr>\n",
       "    <tr>\n",
       "      <th>4</th>\n",
       "      <td>0.000000</td>\n",
       "      <td>0.000000</td>\n",
       "      <td>0.043916</td>\n",
       "      <td>0.034076</td>\n",
       "      <td>0.099918</td>\n",
       "      <td>0.032350</td>\n",
       "      <td>0.031617</td>\n",
       "      <td>0.022302</td>\n",
       "      <td>0.035890</td>\n",
       "      <td>0.000000</td>\n",
       "      <td>...</td>\n",
       "      <td>0.511787</td>\n",
       "      <td>0.051908</td>\n",
       "      <td>0.412319</td>\n",
       "      <td>0.509582</td>\n",
       "      <td>0.442971</td>\n",
       "      <td>0.013957</td>\n",
       "      <td>0.442971</td>\n",
       "      <td>0.635796</td>\n",
       "      <td>0.359637</td>\n",
       "      <td>0.567930</td>\n",
       "    </tr>\n",
       "  </tbody>\n",
       "</table>\n",
       "<p>5 rows × 25 columns</p>\n",
       "</div>"
      ],
      "text/plain": [
       "   sensor_2_max  sensor_2_max  sensor_8_max  sensor_6_max  sensor_10_max  \\\n",
       "0      0.170049      0.170049      0.077639      0.056835       0.066744   \n",
       "1      0.155980      0.155980      0.045045      0.039922       0.162328   \n",
       "2      0.231544      0.231544      0.036683      0.029848       0.076968   \n",
       "3      0.074862      0.074862      0.047060      0.044181       0.110294   \n",
       "4      0.000000      0.000000      0.043916      0.034076       0.099918   \n",
       "\n",
       "   sensor_5_max  sensor_7_max  sensor_4_max  sensor_3_max  sensor_2_std  ...  \\\n",
       "0      0.000000      0.090609      0.035005      0.043123      0.029807  ...   \n",
       "1      0.053835      0.074526      0.041963      0.052583      0.029053  ...   \n",
       "2      0.000000      0.048860      0.031402      0.035371      0.036537  ...   \n",
       "3      0.035585      0.048097      0.015002      0.041047      0.018684  ...   \n",
       "4      0.032350      0.031617      0.022302      0.035890      0.000000  ...   \n",
       "\n",
       "   sensor_3_sum  sensor_2_sum  sensor_4_sum  sensor_10_sum  sensor_6_sum  \\\n",
       "0      0.513164      0.052884      0.413927       0.512612      0.435128   \n",
       "1      0.507557      0.052434      0.410557       0.520879      0.435617   \n",
       "2      0.508621      0.053061      0.411055       0.511832      0.432753   \n",
       "3      0.507641      0.051829      0.410904       0.515376      0.440970   \n",
       "4      0.511787      0.051908      0.412319       0.509582      0.442971   \n",
       "\n",
       "   sensor_5_std  sensor_6_sum  sensor_1_sum  sensor_9_sum  sensor_8_sum  \n",
       "0      0.000000      0.435128      0.633998      0.359502      0.569690  \n",
       "1      0.020098      0.435617      0.637240      0.360931      0.568307  \n",
       "2      0.000000      0.432753      0.638391      0.356688      0.566532  \n",
       "3      0.012287      0.440970      0.638029      0.355383      0.568843  \n",
       "4      0.013957      0.442971      0.635796      0.359637      0.567930  \n",
       "\n",
       "[5 rows x 25 columns]"
      ]
     },
     "execution_count": 59,
     "metadata": {},
     "output_type": "execute_result"
    }
   ],
   "source": [
    "#Columns after feature importance\n",
    "newdf=newdf[features_df]\n",
    "newdf.head()"
   ]
  },
  {
   "cell_type": "markdown",
   "metadata": {},
   "source": [
    "### SUPERVISED LEARNING ALGORITHM"
   ]
  },
  {
   "cell_type": "markdown",
   "metadata": {},
   "source": [
    "__1. Random Forest Regressor__"
   ]
  },
  {
   "cell_type": "code",
   "execution_count": 60,
   "metadata": {},
   "outputs": [],
   "source": [
    "from sklearn.ensemble import RandomForestRegressor\n",
    "from pprint import pprint\n",
    "from sklearn import metrics\n",
    "x_train, x_test, y_train, y_test = train_test_split(newdf, y, test_size=0.3, random_state=0)\n"
   ]
  },
  {
   "cell_type": "code",
   "execution_count": 61,
   "metadata": {},
   "outputs": [
    {
     "data": {
      "text/plain": [
       "0.5957417064160493"
      ]
     },
     "execution_count": 61,
     "metadata": {},
     "output_type": "execute_result"
    }
   ],
   "source": [
    "\n",
    "rf_base = RandomForestRegressor(n_estimators=400)\n",
    "rf_base.fit(x_train, y_train)\n",
    "y_pred_rf_base = rf_base.predict(x_test)\n",
    "\n",
    "rf_base.score(x_test,y_test)"
   ]
  },
  {
   "cell_type": "markdown",
   "metadata": {},
   "source": [
    "__2 : LINEAR REGRESSION__"
   ]
  },
  {
   "cell_type": "code",
   "execution_count": 63,
   "metadata": {},
   "outputs": [
    {
     "data": {
      "image/png": "[encoded data removed]",
      "text/plain": [
       "<Figure size 720x576 with 1 Axes>"
      ]
     },
     "metadata": {
      "needs_background": "light"
     },
     "output_type": "display_data"
    }
   ],
   "source": [
    "x_train, x_test, y_train, y_test = train_test_split(newdf, y, test_size=0.2, random_state=0)\n",
    "regressor = LinearRegression()  \n",
    "regressor.fit(x_train, y_train)\n",
    "y_pred = regressor.predict(x_test)\n",
    "\n",
    "\n",
    "\n",
    "df1 = pd.DataFrame({'Actual': y_test, 'Predicted': y_pred})\n",
    "df1 = np.exp(df1.head(25))\n",
    "\n",
    "\n",
    "\n",
    "df1.plot(kind='bar',figsize=(10,8))\n",
    "plt.grid(which='major', linestyle='-', linewidth='0.5', color='green')\n",
    "plt.grid(which='minor', linestyle=':', linewidth='0.5', color='black')\n",
    "plt.show()\n"
   ]
  },
  {
   "cell_type": "code",
   "execution_count": 64,
   "metadata": {},
   "outputs": [
    {
     "name": "stdout",
     "output_type": "stream",
     "text": [
      "0.6607525601015567\n",
      "[-0.0539657  -0.0539657   0.05326981  0.02491558 -0.04746717  0.11584897\n",
      "  0.00153623  0.07743134 -0.07639724 -0.30165225  0.20950619 -0.06244694\n",
      " -0.06244694 -0.01611825  0.21588016 -0.01611825  0.49186469  0.20875625\n",
      "  0.02794323 -0.0306995  -0.24260716 -0.0306995   0.30441452 -0.14026288\n",
      "  0.04167586]\n"
     ]
    }
   ],
   "source": [
    "#To retrieve the intercept:\n",
    "print(regressor.intercept_)\n",
    "#For retrieving the slope:\n",
    "print(regressor.coef_)"
   ]
  },
  {
   "cell_type": "code",
   "execution_count": 65,
   "metadata": {},
   "outputs": [
    {
     "name": "stdout",
     "output_type": "stream",
     "text": [
      "MAE test score: 0.06768028920722338\n",
      "MSE test score: 0.00885417828305658\n",
      "RMSE test score: 0.09409664331450182\n"
     ]
    }
   ],
   "source": [
    "from sklearn.metrics import mean_absolute_error, mean_squared_error\n",
    "from math import sqrt\n",
    "print(\"MAE test score:\", mean_absolute_error(y_test, y_pred))\n",
    "print(\"MSE test score:\", mean_squared_error(y_test, y_pred))\n",
    "print(\"RMSE test score:\", sqrt(mean_squared_error(y_test, y_pred)))"
   ]
  },
  {
   "cell_type": "markdown",
   "metadata": {},
   "source": [
    "### UNSUPERVISED LEARNING ALGORITHM"
   ]
  },
  {
   "cell_type": "markdown",
   "metadata": {},
   "source": [
    "__1. KMEANS__\n"
   ]
  },
  {
   "cell_type": "code",
   "execution_count": 66,
   "metadata": {},
   "outputs": [
    {
     "data": {
      "text/plain": [
       "array([0, 0, 0, ..., 0, 0, 0])"
      ]
     },
     "execution_count": 66,
     "metadata": {},
     "output_type": "execute_result"
    }
   ],
   "source": [
    "X=newdf.values\n",
    "kmeans = KMeans(n_clusters=3)\n",
    "kmeans.fit(X) \n",
    "kmeans.predict(X) "
   ]
  },
  {
   "cell_type": "markdown",
   "metadata": {},
   "source": [
    "__2. DBSCAN__\n"
   ]
  },
  {
   "cell_type": "code",
   "execution_count": 67,
   "metadata": {},
   "outputs": [
    {
     "data": {
      "text/plain": [
       "<matplotlib.collections.PathCollection at 0x2364af0f1f0>"
      ]
     },
     "execution_count": 67,
     "metadata": {},
     "output_type": "execute_result"
    },
    {
     "data": {
      "image/png": "[encoded data removed]",
      "text/plain": [
       "<Figure size 432x288 with 1 Axes>"
      ]
     },
     "metadata": {
      "needs_background": "light"
     },
     "output_type": "display_data"
    }
   ],
   "source": [
    "db = DBSCAN(eps=0.01, min_samples=6).fit(X)\n",
    "agc = AgglomerativeClustering(linkage='single')\n",
    "agc.fit(X)\n",
    "plt.scatter(X[:,0], X[:,1],s=10,c=agc.labels_)"
   ]
  },
  {
   "cell_type": "code",
   "execution_count": 68,
   "metadata": {},
   "outputs": [
    {
     "name": "stdout",
     "output_type": "stream",
     "text": [
      "2 0.8008109509683773\n",
      "3 0.39076555029340165\n",
      "4 0.334001224507742\n",
      "5 0.3326961529770715\n",
      "6 0.24598237530602568\n"
     ]
    }
   ],
   "source": [
    "#SCORES\n",
    "range_n_clusters = [2, 3, 4, 5, 6]\n",
    "from sklearn.cluster import KMeans\n",
    "from sklearn.metrics import silhouette_score\n",
    "for n_cluster in range_n_clusters:\n",
    "    kmeans = KMeans(n_clusters=n_cluster)\n",
    "    kmeans.fit(X)\n",
    "    labels = kmeans.predict(X)\n",
    "    print (n_cluster, silhouette_score(X,labels))"
   ]
  },
  {
   "cell_type": "markdown",
   "metadata": {},
   "source": [
    "### ADVANCED MODELS - XGBOOST"
   ]
  },
  {
   "cell_type": "code",
   "execution_count": 69,
   "metadata": {},
   "outputs": [],
   "source": [
    "newdf=newdf.loc[:,~newdf.columns.duplicated()]"
   ]
  },
  {
   "cell_type": "code",
   "execution_count": 70,
   "metadata": {},
   "outputs": [],
   "source": [
    "X, y = newdf.iloc[:,:-1],newdf.iloc[:,-1]\n",
    "data_dmatrix = xgb.DMatrix(data=X,label=y)\n",
    "X_train, X_test, y_train, y_test = train_test_split(X, y, test_size=0.2, random_state=123)"
   ]
  },
  {
   "cell_type": "code",
   "execution_count": 71,
   "metadata": {},
   "outputs": [],
   "source": [
    "xg_reg = xgb.XGBRegressor(objective ='reg:squarederror', colsample_bytree = 0.3, learning_rate = 0.1,\n",
    "                max_depth = 5, alpha = 10, n_estimators = 10)"
   ]
  },
  {
   "cell_type": "code",
   "execution_count": 72,
   "metadata": {},
   "outputs": [],
   "source": [
    "xg_reg.fit(X_train,y_train)\n",
    "\n",
    "preds = xg_reg.predict(X_test)"
   ]
  },
  {
   "cell_type": "code",
   "execution_count": 73,
   "metadata": {},
   "outputs": [
    {
     "name": "stdout",
     "output_type": "stream",
     "text": [
      "RMSE: 0.027186\n"
     ]
    }
   ],
   "source": [
    "rmse = np.sqrt(mean_squared_error(y_test, preds))\n",
    "print(\"RMSE: %f\" % (rmse))"
   ]
  },
  {
   "cell_type": "code",
   "execution_count": 74,
   "metadata": {},
   "outputs": [
    {
     "data": {
      "image/png": "[encoded data removed]",
      "text/plain": [
       "<Figure size 432x288 with 1 Axes>"
      ]
     },
     "metadata": {
      "needs_background": "light"
     },
     "output_type": "display_data"
    }
   ],
   "source": [
    "xgb.plot_tree(xg_reg,num_trees=0)\n",
    "plt.rcParams['figure.figsize'] = [5, 5]\n",
    "plt.show()"
   ]
  },
  {
   "cell_type": "code",
   "execution_count": 75,
   "metadata": {},
   "outputs": [
    {
     "data": {
      "image/png": "[encoded data removed]",
      "text/plain": [
       "<Figure size 360x360 with 1 Axes>"
      ]
     },
     "metadata": {
      "needs_background": "light"
     },
     "output_type": "display_data"
    }
   ],
   "source": [
    "xgb.plot_importance(xg_reg)\n",
    "plt.rcParams['figure.figsize'] = [5, 5]\n",
    "plt.show()"
   ]
  },
  {
   "cell_type": "markdown",
   "metadata": {},
   "source": [
    "### MODEL EVALUATION"
   ]
  },
  {
   "cell_type": "markdown",
   "metadata": {},
   "source": [
    "##### Regression Metrics that can be used are:\n",
    "    * Mean Absolute Error (MAE)\n",
    "    * Mean squared Error\n",
    "    * Root Mean Squared Error (RMSE)"
   ]
  },
  {
   "cell_type": "code",
   "execution_count": 76,
   "metadata": {},
   "outputs": [
    {
     "name": "stdout",
     "output_type": "stream",
     "text": [
      "MAE test score: 0.31044086928010783\n",
      "MSE test score: 0.09923101869068225\n",
      "RMSE test score: 0.3150095533324065\n"
     ]
    }
   ],
   "source": [
    "from sklearn.metrics import mean_absolute_error, mean_squared_error\n",
    "from math import sqrt\n",
    "print(\"MAE test score:\", mean_absolute_error(y_test, y_pred))\n",
    "print(\"MSE test score:\", mean_squared_error(y_test, y_pred))\n",
    "print(\"RMSE test score:\", sqrt(mean_squared_error(y_test, y_pred)))"
   ]
  },
  {
   "cell_type": "code",
   "execution_count": null,
   "metadata": {},
   "outputs": [],
   "source": []
  }
 ],
 "metadata": {
  "kernelspec": {
   "display_name": "Python 3",
   "language": "python",
   "name": "python3"
  },
  "language_info": {
   "codemirror_mode": {
    "name": "ipython",
    "version": 3
   },
   "file_extension": ".py",
   "mimetype": "text/x-python",
   "name": "python",
   "nbconvert_exporter": "python",
   "pygments_lexer": "ipython3",
   "version": "3.8.5"
  }
 },
 "nbformat": 4,
 "nbformat_minor": 4
}
